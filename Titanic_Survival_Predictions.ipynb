{
  "nbformat": 4,
  "nbformat_minor": 0,
  "metadata": {
    "colab": {
      "provenance": [],
      "authorship_tag": "ABX9TyOSgL+hFu3q78fqulIf1A5Q",
      "include_colab_link": true
    },
    "kernelspec": {
      "name": "python3",
      "display_name": "Python 3"
    },
    "language_info": {
      "name": "python"
    }
  },
  "cells": [
    {
      "cell_type": "markdown",
      "metadata": {
        "id": "view-in-github",
        "colab_type": "text"
      },
      "source": [
        "<a href=\"https://colab.research.google.com/github/mbeck23/git_practice/blob/main/Titanic_Survival_Predictions.ipynb\" target=\"_parent\"><img src=\"https://colab.research.google.com/assets/colab-badge.svg\" alt=\"Open In Colab\"/></a>"
      ]
    },
    {
      "cell_type": "code",
      "execution_count": 13,
      "metadata": {
        "colab": {
          "base_uri": "https://localhost:8080/"
        },
        "id": "c-n6qIfjafBF",
        "outputId": "6108e6a8-79a1-4be7-f99a-dc4df0d93102"
      },
      "outputs": [
        {
          "output_type": "execute_result",
          "data": {
            "text/plain": [
              "0.7890011223344556"
            ]
          },
          "metadata": {},
          "execution_count": 13
        }
      ],
      "source": [
        "import os\n",
        "if not os.path.exists(\"train.csv\"):\n",
        "  !wget https://github.com/ACM-SDSU/Workshops/raw/main/titanic.zip\n",
        "  !unzip titanic.zip\n",
        "\n",
        "import numpy as np # basic math library\n",
        "import pandas as pd # matrix manipulation / data structures\n",
        "\n",
        "from sklearn.model_selection import train_test_split\n",
        "from sklearn.linear_model import LogisticRegression as LogReg # explain what logistic regression is\n",
        "from sklearn.metrics import accuracy_score\n",
        "import matplotlib.pyplot as plt # for display purposes\n",
        "\n",
        "def processDataFromFile(filename,h):\n",
        "    data = pd.read_csv(filename,usecols=h)\n",
        "    data = data.map(lambda x: 0 if x=='male' else (1 if x=='female' else x))\n",
        "    data = data.map(lambda x: 0 if pd.isna(x) else x)\n",
        "    return data\n",
        "\n",
        "headers = ['Survived','Pclass','Sex','Age','SibSp','Parch','Fare']\n",
        "pred_headers = headers[1:]\n",
        "\n",
        "train_data = processDataFromFile(\"train.csv\",headers)\n",
        "\n",
        "X_train = train_data.iloc[:, 1:]\n",
        "y_train = train_data.iloc[:,0]\n",
        "\n",
        "model = LogReg()\n",
        "model.fit(X_train,y_train)\n",
        "\n",
        "X_test = processDataFromFile(\"test.csv\", pred_headers)\n",
        "y_pred = model.predict(X_test)\n",
        "output_data = pd.DataFrame({\n",
        "    'PassengerId': range (892, 1310),\n",
        "    'Survived': y_pred\n",
        "})\n",
        "\n",
        "output_data.to_csv(\"resuts.csv\", index=False)\n",
        "\n",
        "accuracy_score(y_train, model.predict(X_train))"
      ]
    }
  ]
}